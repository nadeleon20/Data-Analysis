{
    "cells": [
        {
            "cell_type": "code",
            "execution_count": null,
            "metadata": {
                "collapsed": true
            },
            "outputs": [],
            "source": "## I am unsure how to connect a database to this Jupyter Notebook,\n## But this is from an exercise that I did in MySQL\n\n\n\nSELECT * FROM us_state WHERE name = \"California\"\n\nSELECT name, capital FROM us_state WHERE name = \"Oregon\"\n\nSELECT * FROM us_state WHERE area_size > 10000\n\nSELECT * FROM us_state ORDER BY area_size DESC\n\nSELECT * FROM us_state WHERE name LIKE \"M%\" ORDER BY name\n\nSELECT * FROM us_state WHERE abbreviation LIKE \"N%\" ORDER BY capital \n\nINSERT INTO club_member\nfirst_name = \"Nicholas\",\nlast_name = \"De Leon\",\nphone_number = \"4436803727\"\n\nDELETE FROM club_member \nWHERE first_name = \"John\"\nAND last_name = \"Doe\"\n\nSELECT club_member.member_id, first_name,\nlast_name, description, amount, due_date\nFROM club_member, invoice\nWHERE club_member.member_id =\ninvoice.member_id"
        }
    ],
    "metadata": {
        "kernelspec": {
            "display_name": "Python 3.7",
            "language": "python",
            "name": "python3"
        },
        "language_info": {
            "codemirror_mode": {
                "name": "ipython",
                "version": 3
            },
            "file_extension": ".py",
            "mimetype": "text/x-python",
            "name": "python",
            "nbconvert_exporter": "python",
            "pygments_lexer": "ipython3",
            "version": "3.7.9"
        }
    },
    "nbformat": 4,
    "nbformat_minor": 1
}
